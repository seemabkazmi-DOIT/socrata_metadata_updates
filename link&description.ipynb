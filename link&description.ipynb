{
 "cells": [
  {
   "cell_type": "code",
   "execution_count": null,
   "id": "c3bdcbaf-faa1-4b51-891a-9361bfcfb6e0",
   "metadata": {},
   "outputs": [],
   "source": [
    "import requests\n",
    "from requests.auth import HTTPBasicAuth\n",
    "import json\n",
    "from secret_data import userpass \n",
    "import pandas as pd \n",
    "import re "
   ]
  },
  {
   "cell_type": "code",
   "execution_count": null,
   "id": "374554d3-3fee-4a0e-b04c-9f3cabc7ecd1",
   "metadata": {},
   "outputs": [],
   "source": [
    "import pandas as pd\n",
    "import requests\n",
    "from requests.auth import HTTPBasicAuth\n",
    "import json\n",
    "import re\n",
    "\n",
    "# Load the CSV\n",
    "odp = pd.read_csv('Socrata Imap Link Replacements.csv')\n",
    "\n",
    "# Credentials\n",
    "domain = \"opendata.maryland.gov\"\n",
    "username = userpass[0]\n",
    "password = userpass[1]\n",
    "\n",
    "for index, row in odp.iterrows():\n",
    "    dataset_id = row['UID']\n",
    "    metadata_url = f\"https://{domain}/api/views/{dataset_id}\"\n",
    "    \n",
    "    # Make the request\n",
    "    response = requests.get(metadata_url, auth=HTTPBasicAuth(username, password))\n",
    "    \n",
    "    # Check the response\n",
    "    if response.status_code == 200:\n",
    "        metadata = response.json()\n",
    "        print(\"Metadata retrieved successfully!\")\n",
    "        #print(metadata)\n",
    "    else:\n",
    "        print(f\"Failed to retrieve metadata. Status code: {response.status_code}\")\n",
    "        print(response.text)\n",
    "\n",
    "    # Check if 'new link' is not null and not equal to \"#NA\"\n",
    "    if pd.notna(row['new link']) and row['new link'] != \"#NA\" and row['new link']!=\"0/2\" and row ['new link']!=\"0/0\"and row ['new link']!=\"0/1\":\n",
    "        metadata['attributionLink'] = row['new link']\n",
    "        \n",
    "        metadata['description'] = re.sub(\n",
    "        r\"((?:Map Service Link:|Service Link:|Service Layer Link:)\\s*)http[s]?://\\S+\",\n",
    "        lambda m: m.group(1) + row['found link'],\n",
    "        metadata['description'])\n",
    "        print(dataset_id)\n",
    "        # Send the updated metadata back to the API\n",
    "        update_response = requests.put(\n",
    "            metadata_url,\n",
    "            auth=HTTPBasicAuth(username, password),\n",
    "            headers={\"Content-Type\": \"application/json\"},\n",
    "            data=json.dumps(metadata)\n",
    "        )\n",
    "\n",
    "        if update_response.status_code in [200, 202]:\n",
    "            print(\"Source link updated successfully!\")\n",
    "        else:\n",
    "            raise Exception(f\"Failed to update metadata: {update_response.status_code}, {update_response.text}, {dataset_id}\")\n",
    "    else:\n",
    "        print('No matching value')"
   ]
  }
 ],
 "metadata": {
  "kernelspec": {
   "display_name": "Python 3 (ipykernel)",
   "language": "python",
   "name": "python3"
  },
  "language_info": {
   "codemirror_mode": {
    "name": "ipython",
    "version": 3
   },
   "file_extension": ".py",
   "mimetype": "text/x-python",
   "name": "python",
   "nbconvert_exporter": "python",
   "pygments_lexer": "ipython3",
   "version": "3.12.3"
  }
 },
 "nbformat": 4,
 "nbformat_minor": 5
}
